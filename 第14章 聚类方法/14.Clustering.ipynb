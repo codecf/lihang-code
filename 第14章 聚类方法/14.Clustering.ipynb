{
 "cells": [
  {
   "cell_type": "markdown",
   "metadata": {
    "colab_type": "text",
    "id": "_lhcu-eFro6f"
   },
   "source": [
    "# 第14章聚类方法"
   ]
  },
  {
   "cell_type": "markdown",
   "metadata": {},
   "source": [
    "1.聚类是针对给定的样本，依据它们属性的相似度或距离，将其归并到若干个“类”或“簇”的数据分析问题。一个类是样本的一个子集。直观上，相似的样本聚集在同类，不相似的样本分散在不同类。\n",
    "\n",
    "2.距离或相似度度量在聚类中起着重要作用。\n",
    "\n",
    "常用的距离度量有闵可夫斯基距离，包括欧氏距离曼哈顿距离、切比雪夫距离、、以及马哈拉诺比斯距离。常用的相似度度量有相关系数、夹角余弦。\n",
    "用距离度量相似度时，距离越小表示样本越相似；用相关系数时，相关系数越大表示样本越相似。\n",
    "\n",
    "3.类是样本的子集，比如有如下基本定义：\n",
    "用$G$表示类或簇，用$x_i$,$x_j$；等表示类中的样本，用$d_{ij}$表示样本$x_i$与样本$x_j$之间的距离。如果对任意的$x _ { i } , x _ { j } \\in G$，有$$d _ { i j } \\leq T$$\n",
    "则称$G$为一个类或簇。\n",
    "\n",
    "描述类的特征的指标有中心、直径、散布矩阵、协方差矩阵。\n",
    "\n",
    "4.聚类过程中用到类与类之间的距离也称为连接类与类之间的距离包括最短距离、最长距离、中心距离、平均距离。\n",
    "\n",
    "5.层次聚类假设类别之间存在层次结构，将样本聚到层次化的类中层次聚类又有聚合或自下而上、分裂或自上而下两种方法。\n",
    "\n",
    "聚合聚类开始将每个样本各自分到一个类；之后将相距最近的两类合并，建立一个新的类，重复此操作直到满足停止条件；得到层次化的类别。分裂聚类开始将所有样本分到一个类；之后将已有类中相距最远的样本分到两个新的类，重复此操作直到满足停止条件；得到层次化的类别。\n",
    "\n",
    "聚合聚类需要预先确定下面三个要素：\n",
    "\n",
    "（1）距离或相似度；\n",
    "（2）合并规则；\n",
    "（3）停止条件。\n",
    "\n",
    "根据这些概念的不同组合，就可以得到不同的聚类方法。\n",
    "\n",
    "6.$k$均值聚类是常用的聚类算法，有以下特点。基于划分的聚类方法；类别数k事先指定；以欧氏距离平方表示样本之间的距离或相似度，以中心或样本的均值表示类别；以样本和其所属类的中心之间的距离的总和为优化的目标函数；得到的类别是平坦的、非层次化的；算法是迭代算法，不能保证得到全局最优。\n",
    "\n",
    "$k$均值聚类算法，首先选择k个类的中心，将样本分到与中心最近的类中，得到一个聚类结果；然后计算每个类的样本的均值，作为类的新的中心；重复以上步骤，直到收敛为止。"
   ]
  },
  {
   "cell_type": "markdown",
   "metadata": {
    "colab_type": "text",
    "id": "hGPg5M7wsOQY"
   },
   "source": [
    "### 层次聚类 \n",
    "\n",
    "1. **聚合**（自下而上）：聚合法开始将每个样本各自分裂到一个类，之后将相距最近的两类合并，建立一个新的类，重复次操作知道满足停止条件，得到层次化的类别。\n",
    "\n",
    "2. **分裂**（自上而下）： 分裂法开始将所有样本分到一个类，之后将已有类中相距最远的样本分到两个新的类，重复此操作直到满足停止条件，得到层次化的类别。\n",
    "\n",
    "\n",
    "### k均值聚类\n",
    "\n",
    "k均值聚类是基于中心的聚类方法，通过迭代，将样本分到k个类中，使得每个样本与其所属类的中心或均值最近，得到k个平坦的，非层次化的类别，构成对空间的划分。"
   ]
  },
  {
   "cell_type": "code",
   "execution_count": 4,
   "metadata": {
    "colab": {},
    "colab_type": "code",
    "id": "qAlQYJ2Srd2_"
   },
   "outputs": [],
   "source": [
    "import math             # 导入数学库\n",
    "import random           # 随机函数\n",
    "import numpy as np                      # numpy:Python中基于数组对象的科学计算库，支持大量的维度数组与矩阵运算，以及大量的数学函数库。\n",
    "from sklearn import datasets,cluster    # datasets模块：自带的数据集；cluster：聚类算法模块。\n",
    "import matplotlib.pyplot as plt         # 绘图函数"
   ]
  },
  {
   "cell_type": "code",
   "execution_count": 5,
   "metadata": {
    "colab": {},
    "colab_type": "code",
    "id": "M_XOaWU5xpjI"
   },
   "outputs": [],
   "source": [
    "iris = datasets.load_iris()         # 加载鸢尾花数据集"
   ]
  },
  {
   "cell_type": "code",
   "execution_count": 6,
   "metadata": {
    "colab": {
     "base_uri": "https://localhost:8080/",
     "height": 143
    },
    "colab_type": "code",
    "id": "_swSYxCr0RzU",
    "outputId": "88d09d3b-7700-4af5-e3b6-4d7735a3dd75"
   },
   "outputs": [
    {
     "data": {
      "text/plain": [
       "array([0, 0, 0, 0, 0, 0, 0, 0, 0, 0, 0, 0, 0, 0, 0, 0, 0, 0, 0, 0, 0, 0,\n",
       "       0, 0, 0, 0, 0, 0, 0, 0, 0, 0, 0, 0, 0, 0, 0, 0, 0, 0, 0, 0, 0, 0,\n",
       "       0, 0, 0, 0, 0, 0, 1, 1, 1, 1, 1, 1, 1, 1, 1, 1, 1, 1, 1, 1, 1, 1,\n",
       "       1, 1, 1, 1, 1, 1, 1, 1, 1, 1, 1, 1, 1, 1, 1, 1, 1, 1, 1, 1, 1, 1,\n",
       "       1, 1, 1, 1, 1, 1, 1, 1, 1, 1, 1, 1, 2, 2, 2, 2, 2, 2, 2, 2, 2, 2,\n",
       "       2, 2, 2, 2, 2, 2, 2, 2, 2, 2, 2, 2, 2, 2, 2, 2, 2, 2, 2, 2, 2, 2,\n",
       "       2, 2, 2, 2, 2, 2, 2, 2, 2, 2, 2, 2, 2, 2, 2, 2, 2, 2])"
      ]
     },
     "execution_count": 6,
     "metadata": {},
     "output_type": "execute_result"
    }
   ],
   "source": [
    "gt = iris['target'];gt  # 获取鸢尾花数据集的标记向量并打印"
   ]
  },
  {
   "cell_type": "markdown",
   "metadata": {
    "colab_type": "text",
    "id": "UoIRpftd9Uh2"
   },
   "source": [
    "3类"
   ]
  },
  {
   "cell_type": "code",
   "execution_count": 7,
   "metadata": {
    "colab": {
     "base_uri": "https://localhost:8080/",
     "height": 35
    },
    "colab_type": "code",
    "id": "pI6cS2sjy3Sz",
    "outputId": "3d9d01de-31b4-4eea-989c-b0a986a77af5"
   },
   "outputs": [
    {
     "data": {
      "text/plain": [
       "(150, 2)"
      ]
     },
     "execution_count": 7,
     "metadata": {},
     "output_type": "execute_result"
    }
   ],
   "source": [
    "iris['data'][:,:2].shape    # 截取鸢尾花数据集特征向量的前两列并打印shape"
   ]
  },
  {
   "cell_type": "code",
   "execution_count": 8,
   "metadata": {
    "colab": {},
    "colab_type": "code",
    "id": "YwIVX5j81348"
   },
   "outputs": [],
   "source": [
    "data = iris['data'][:,:2]   # 截取鸢尾花数据集特征向量的前两列作为输入向量（训练的特征向量）"
   ]
  },
  {
   "cell_type": "code",
   "execution_count": 9,
   "metadata": {
    "colab": {},
    "colab_type": "code",
    "id": "h-wEZbDR03E_"
   },
   "outputs": [],
   "source": [
    "x = data[:,0]       # 取特征向量的第一列\n",
    "y = data[:,1]       # 取特征向量的第二列"
   ]
  },
  {
   "cell_type": "code",
   "execution_count": 10,
   "metadata": {
    "colab": {
     "base_uri": "https://localhost:8080/",
     "height": 269
    },
    "colab_type": "code",
    "id": "bW_lxjVdy4rW",
    "outputId": "ded2fc31-a69a-4e40-b0d4-350b995488ce"
   },
   "outputs": [
    {
     "data": {
      "image/png": "[encoded data removed]",
      "text/plain": [
       "<Figure size 640x480 with 1 Axes>"
      ]
     },
     "metadata": {},
     "output_type": "display_data"
    }
   ],
   "source": [
    "plt.scatter(x, y, color='green')    # 绘制x,y\n",
    "plt.xlim(4, 8)      # 设定x坐标轴的范围\n",
    "plt.ylim(1, 5)      # 设定y坐标轴的范围\n",
    "plt.show()          # 显示图形"
   ]
  },
  {
   "cell_type": "code",
   "execution_count": 11,
   "metadata": {
    "colab": {},
    "colab_type": "code",
    "id": "WkcMa9cs2onL"
   },
   "outputs": [],
   "source": [
    "# 定义聚类数的节点\n",
    "\n",
    "class ClusterNode:\n",
    "    def __init__(self, vec, left=None, right=None, distance=-1, id=None, count=1):\n",
    "        \"\"\"\n",
    "        :param vec: 保存两个数据聚类后形成新的中心\n",
    "        :param left: 左节点\n",
    "        :param right:  右节点\n",
    "        :param distance: 两个节点的距离\n",
    "        :param id: 用来标记哪些节点是计算过的\n",
    "        :param count: 这个节点的叶子节点个数\n",
    "        \"\"\"\n",
    "        self.vec = vec\n",
    "        self.left = left\n",
    "        self.right = right\n",
    "        self.distance = distance\n",
    "        self.id = id\n",
    "        self.count = count"
   ]
  },
  {
   "cell_type": "code",
   "execution_count": 12,
   "metadata": {
    "colab": {},
    "colab_type": "code",
    "id": "_M1vGW8s5ycx"
   },
   "outputs": [],
   "source": [
    "def euler_distance(point1: np.ndarray, point2: list) -> float:  # 要求point1为np.ndarray类型 point2为list类型 并限定了其中保存的数据类型为float\n",
    "    \"\"\"\n",
    "    计算两点之间的欧拉距离，支持多维\n",
    "    \"\"\"\n",
    "    distance = 0.0                      # 初始化保存距离\n",
    "    for a, b in zip(point1, point2):    # 组合输入变量并迭代\n",
    "        distance += math.pow(a - b, 2)  # distance +=（a-b)^2\n",
    "    return math.sqrt(distance)  # 返回欧氏距离"
   ]
  },
  {
   "cell_type": "code",
   "execution_count": 13,
   "metadata": {
    "colab": {},
    "colab_type": "code",
    "id": "udgrrhsn19X1"
   },
   "outputs": [],
   "source": [
    "# 层次聚类（聚合法）\n",
    "\n",
    "# 假设有 n 个待聚类的样本，对于层次聚类算法，它的步骤是：\n",
    "# 步骤一：（初始化）将每个样本都视为一个聚类；\n",
    "# 步骤二：计算各个聚类之间的相似度；\n",
    "# 步骤三：寻找最近的两个聚类，将他们归为一类；\n",
    "# 步骤四：重复步骤二，步骤三；直到所有样本归为一类。\n",
    "# 整个过程就是建立一棵树，在建立的过程中，可以在步骤四设置所需分类的类别个数，作为迭代的终止条件，毕竟都归为一类并不实际。\n",
    "\n",
    "class Hierarchical:             # 层次聚类\n",
    "    def __init__(self, k):\n",
    "        self.k = k              # k值,所需分类的类别个数\n",
    "        self.labels = None\n",
    "        \n",
    "    def fit(self, x):           # 训练\n",
    "        nodes = [ClusterNode(vec=v, id=i) for i, v in enumerate(x)]     # 数据处理--创建聚类节点列表 为输入数据中的每个点创建一个聚类节点\n",
    "        distances = {}          # 点之间的距离字典\n",
    "        point_num, feature_num = x.shape    # 特征的维度\n",
    "        self.labels = [-1] * point_num      # \n",
    "        currentclustid = -1                 # 用来更新剧烈聚类节点的id\n",
    "        while(len(nodes)) > self.k:     # 迭代直到所需分类的类别个数\n",
    "            min_dist = math.inf         # math.inf 常量无穷大\n",
    "            nodes_len = len(nodes)      # 层次聚类的节点数\n",
    "            closest_part = None         # 标识最相似的两个聚类\n",
    "            # 迭代 只需计算节点i和其之后的距离即可，相当于距离矩阵的上三角\n",
    "            for i in range(nodes_len - 1):\n",
    "                for j in range(i+1, nodes_len):\n",
    "                    # 为了不重复计算距离，保存在字典中\n",
    "                    d_key = (nodes[i].id, nodes[j].id)          # 组织距离字典中的key\n",
    "                    if d_key not in distances:                  # 如果两点之间的距离未计算过\n",
    "                        distances[d_key] = euler_distance(nodes[i].vec, nodes[j].vec)   # 计算两点之间的欧氏距离并保存到距离字典中\n",
    "                    d = distances[d_key]    # 取得两点之间的距离\n",
    "                    if d < min_dist:        # 如果该距离小于标记的最小距离\n",
    "                        min_dist = d            # 更新最小距离\n",
    "                        closest_part = (i, j)   # 更新最相似的两个聚类\n",
    "                        \n",
    "            part1, part2 = closest_part         # 取出本轮迭代最相似的两个聚类的序号\n",
    "            node1, node2 = nodes[part1], nodes[part2]   # 取出本轮迭代最相似的两个聚类的层次聚类节点\n",
    "            new_vec = [ (node1.vec[i] * node1.count + node2.vec[i] * node2.count ) / (node1.count + node2.count)    # 取平均值作为新节点的位置\n",
    "                        for i in range(feature_num)]\n",
    "            new_node = ClusterNode(vec=new_vec,         # 新建新的聚类节点 位置为聚类后点的平均值\n",
    "                                   left=node1,          \n",
    "                                   right=node2,\n",
    "                                   distance=min_dist,   # 聚类成该聚类节点的距离\n",
    "                                   id=currentclustid,   # 聚类后节点的序号--用来标记哪些节点是计算过的（计算过的未负值）\n",
    "                                   count=node1.count + node2.count) # 这个节点的叶子节点个数\n",
    "            currentclustid -= 1     # 更新id\n",
    "            del nodes[part2], nodes[part1]  # 删除被聚类过的节点        # 一定要先del索引较大的\n",
    "            nodes.append(new_node)          # 将聚类的新节点添加到聚类节点列表中\n",
    "            \n",
    "        self.nodes = nodes      # 保存聚类节点\n",
    "        self.calc_label()       # 调取聚类的结果\n",
    "        \n",
    "    def calc_label(self):\n",
    "        \"\"\"\n",
    "        调取聚类的结果\n",
    "        \"\"\"\n",
    "        for i, node in enumerate(self.nodes):\n",
    "            # 将节点的所有叶子节点都分类\n",
    "            self.leaf_traversal(node, i)    # 递归遍历叶子节点\n",
    "\n",
    "    def leaf_traversal(self, node: ClusterNode, label):\n",
    "        \"\"\"\n",
    "        递归遍历叶子节点\n",
    "        \"\"\"\n",
    "        if node.left == None and node.right == None:    # 叶节点\n",
    "            self.labels[node.id] = label                # 对类别进行标记（所有原始的节点，id为正值且和输入数据相匹配）\n",
    "        if node.left:\n",
    "            self.leaf_traversal(node.left, label)       # 递归遍历左节点\n",
    "        if node.right:\n",
    "            self.leaf_traversal(node.right, label)      # 递归遍历右节点\n",
    "            \n",
    "# https://zhuanlan.zhihu.com/p/32438294"
   ]
  },
  {
   "cell_type": "code",
   "execution_count": 15,
   "metadata": {
    "colab": {
     "base_uri": "https://localhost:8080/",
     "height": 107
    },
    "colab_type": "code",
    "id": "LwD9Iots6871",
    "outputId": "be527c5e-3be7-40ee-c361-37a0ab57440b"
   },
   "outputs": [
    {
     "name": "stdout",
     "output_type": "stream",
     "text": [
      "[2 2 2 2 2 2 2 2 2 2 2 2 2 2 2 2 2 2 2 2 2 2 2 2 2 2 2 2 2 2 2 2 2 2 2 2 2\n",
      " 2 2 2 2 2 2 2 2 2 2 2 2 2 0 0 0 0 0 0 0 2 0 2 2 0 0 0 0 0 0 0 0 0 0 0 0 0\n",
      " 0 0 0 0 0 0 0 0 0 0 0 0 0 0 0 0 0 0 0 2 0 0 0 0 2 0 0 0 1 0 0 1 2 1 0 1 0\n",
      " 0 0 0 0 0 0 1 1 0 0 0 1 0 0 1 0 0 0 1 1 1 0 0 0 1 0 0 0 0 0 0 0 0 0 0 0 0\n",
      " 0 0]\n"
     ]
    }
   ],
   "source": [
    "my = Hierarchical(3)    # 实例化层次聚类，并期望聚类个数为3\n",
    "my.fit(data)        # 进行聚类\n",
    "labels = np.array(my.labels)    # 将聚类后的类别转化为array\n",
    "print(labels)       # 打印类别"
   ]
  },
  {
   "cell_type": "code",
   "execution_count": 17,
   "metadata": {
    "colab": {
     "base_uri": "https://localhost:8080/",
     "height": 281
    },
    "colab_type": "code",
    "id": "yJN0NPWn8F6K",
    "outputId": "f8238840-dd5e-45b3-e5b2-b4fa3836f7bb"
   },
   "outputs": [
    {
     "data": {
      "image/png": "[encoded data removed]",
      "text/plain": [
       "<Figure size 640x480 with 1 Axes>"
      ]
     },
     "metadata": {},
     "output_type": "display_data"
    }
   ],
   "source": [
    "# visualize result\n",
    "\n",
    "cat1 = data[np.where(labels==0)]    # # 获得所有标记为0的点（特征向量）\n",
    "cat2 = data[np.where(labels==1)]    # 获得所有标记为1的点\n",
    "cat3 = data[np.where(labels==2)]    # 获得所有标记为2的点\n",
    "\n",
    "plt.scatter(cat1[:,0], cat1[:,1], color='green')    # 绘制所有标记为0的点\n",
    "plt.scatter(cat2[:,0], cat2[:,1], color='red')      # 绘制所有标记为1的点\n",
    "plt.scatter(cat3[:,0], cat3[:,1], color='blue')     # 绘制所有标记为2的点\n",
    "plt.title('Hierarchical clustering with k=3')       # 设置标题\n",
    "plt.xlim(4, 8)  # 设置x轴的范围\n",
    "plt.ylim(1, 5)  # 设置y轴的范围\n",
    "plt.show()  # 显示图形"
   ]
  },
  {
   "cell_type": "code",
   "execution_count": 23,
   "metadata": {
    "colab": {
     "base_uri": "https://localhost:8080/",
     "height": 107
    },
    "colab_type": "code",
    "id": "7xilKyap8ghX",
    "outputId": "0a58379a-679a-4d0b-fe13-241585f60d81"
   },
   "outputs": [
    {
     "name": "stdout",
     "output_type": "stream",
     "text": [
      "[1 1 1 1 1 1 1 1 1 1 1 1 1 1 1 1 1 1 1 1 1 1 1 1 1 1 1 1 1 1 1 1 1 1 1 1 1\n",
      " 1 1 1 1 1 1 1 1 1 1 1 1 1 0 0 0 2 0 2 0 1 0 1 1 0 2 0 2 0 2 2 2 2 0 0 2 0\n",
      " 0 0 0 0 0 2 2 2 2 0 2 0 0 2 2 2 2 0 2 1 2 2 2 0 1 2 0 2 0 0 0 0 1 0 0 0 0\n",
      " 0 0 2 2 0 0 0 0 2 0 2 0 0 0 0 0 0 0 0 0 0 0 0 0 0 0 0 0 0 0 0 2 0 0 0 2 0\n",
      " 0 0]\n"
     ]
    }
   ],
   "source": [
    "sk = cluster.AgglomerativeClustering(3)     # 调用sklearn库中的层次聚类算法\n",
    "sk.fit(data)    # 训练\n",
    "labels_ = sk.labels_        # 获取聚类标记\n",
    "print(labels_)"
   ]
  },
  {
   "cell_type": "code",
   "execution_count": 24,
   "metadata": {
    "colab": {
     "base_uri": "https://localhost:8080/",
     "height": 281
    },
    "colab_type": "code",
    "id": "hlFZeDdW9Bzr",
    "outputId": "7a837637-70e6-4c40-b6f2-c6a651fc4cae"
   },
   "outputs": [
    {
     "data": {
      "image/png": "[encoded data removed]",
      "text/plain": [
       "<Figure size 640x480 with 1 Axes>"
      ]
     },
     "metadata": {},
     "output_type": "display_data"
    }
   ],
   "source": [
    "# visualize result of sklearn\n",
    "\n",
    "cat1_ = data[np.where(labels_==0)]\n",
    "cat2_ = data[np.where(labels_==1)]\n",
    "cat3_ = data[np.where(labels_==2)]\n",
    "\n",
    "plt.scatter(cat1_[:,0], cat1_[:,1], color='green')\n",
    "plt.scatter(cat2_[:,0], cat2_[:,1], color='red')\n",
    "plt.scatter(cat3_[:,0], cat3_[:,1], color='blue')\n",
    "plt.title('Hierarchical clustering with k=3')\n",
    "plt.xlim(4, 8)\n",
    "plt.ylim(1, 5)\n",
    "plt.show()"
   ]
  },
  {
   "cell_type": "markdown",
   "metadata": {
    "colab_type": "text",
    "id": "La_XZDI5_Bng"
   },
   "source": [
    "---------------------------------------------------------------------------------------------------------------------------------"
   ]
  },
  {
   "cell_type": "code",
   "execution_count": 25,
   "metadata": {
    "colab": {},
    "colab_type": "code",
    "id": "fNl9AY6vAFJG"
   },
   "outputs": [],
   "source": [
    "# kmeans\n",
    "\n",
    "class MyKmeans:\n",
    "    def __init__(self, k, n=20):\n",
    "        self.k = k      # 需要聚类的个数\n",
    "        self.n = n      # 训练迭代次数\n",
    "        \n",
    "    def fit(self, x, centers=None):\n",
    "        # 第一步，随机选择 K 个点, 或者指定\n",
    "        if centers is None:\n",
    "            idx = np.random.randint(low=0, high=len(x), size=self.k)    # 返回范围0-len(x)内的k个随机整数。 size:输出随机数的尺寸，比如size = (m * n* k)则输出同规模即m * n* k个随机数。默认是None的，仅仅返回满足要求的单一随机数。\n",
    "            centers = x[idx]    # 以选定的随机数序列挑选聚类的初始点\n",
    "        #print(centers)\n",
    "        \n",
    "        inters = 0\n",
    "        while inters < self.n:\n",
    "            #print(inters)\n",
    "            #print(centers)\n",
    "            points_set = {key: [] for key in range(self.k)} # 使用字典保存k个聚类类别\n",
    "\n",
    "            # 第二步，遍历所有点 P，将 P 放入最近的聚类中心的集合中\n",
    "            for p in x:\n",
    "                # np.argmin()求最小值对应的索引\n",
    "                # np.sum(, axis=1) 行求和 \n",
    "                # (centers - p) ** 2 计算欧氏距离\n",
    "                nearest_index = np.argmin(np.sum((centers - p) ** 2, axis=1) ** 0.5)    # 返回离p点最近的聚类中心的序号\n",
    "                points_set[nearest_index].append(p)     # 在该聚类类别中添加p点\n",
    "\n",
    "            # 第三步，遍历每一个点集，计算新的聚类中心\n",
    "            for i_k in range(self.k):       # 迭代k个聚类类别\n",
    "                centers[i_k] = sum(points_set[i_k])/len(points_set[i_k])    # 更新聚类中心坐标\n",
    "                \n",
    "            inters += 1 # 迭代次数+1\n",
    "\n",
    "        \n",
    "            \n",
    "        return points_set, centers  # 返回聚类数据 和 每个聚类的中心坐标\n",
    "        "
   ]
  },
  {
   "cell_type": "code",
   "execution_count": 26,
   "metadata": {
    "colab": {},
    "colab_type": "code",
    "id": "SyLthTXfBfnV"
   },
   "outputs": [],
   "source": [
    "m = MyKmeans(3)         # 实例化k-means\n",
    "points_set, centers = m.fit(data)   # 训练"
   ]
  },
  {
   "cell_type": "code",
   "execution_count": 27,
   "metadata": {
    "colab": {
     "base_uri": "https://localhost:8080/",
     "height": 71
    },
    "colab_type": "code",
    "id": "VE2ryNB-O_Zt",
    "outputId": "55a70e58-fccd-4001-c67c-964ede3a8550"
   },
   "outputs": [
    {
     "data": {
      "text/plain": [
       "array([[5.006     , 3.428     ],\n",
       "       [6.81276596, 3.07446809],\n",
       "       [5.77358491, 2.69245283]])"
      ]
     },
     "execution_count": 27,
     "metadata": {},
     "output_type": "execute_result"
    }
   ],
   "source": [
    "centers # 打印中心点位置"
   ]
  },
  {
   "cell_type": "code",
   "execution_count": 33,
   "metadata": {
    "colab": {
     "base_uri": "https://localhost:8080/",
     "height": 281
    },
    "colab_type": "code",
    "id": "M26gflVYDzY4",
    "outputId": "abb1b7b1-df4f-4fa1-9a24-1dc722112c2c"
   },
   "outputs": [
    {
     "data": {
      "image/png": "[encoded data removed]",
      "text/plain": [
       "<Figure size 640x480 with 1 Axes>"
      ]
     },
     "metadata": {},
     "output_type": "display_data"
    }
   ],
   "source": [
    "# visualize result\n",
    "\n",
    "cat1 = np.asarray(points_set[0])        # 获得所有标记为0的点（特征向量）\n",
    "cat2 = np.asarray(points_set[1])        # 获得所有标记为1的点\n",
    "cat3 = np.asarray(points_set[2])        # 获得所有标记为2的点\n",
    "\n",
    "for ix, p in enumerate(centers):\n",
    "    plt.scatter(p[0], p[1], color='C{}'.format(ix), marker='^', edgecolor='black', s=256)   # 绘制聚类的中心点\n",
    "        \n",
    "plt.scatter(cat1_[:,0], cat1_[:,1], color='green')  # 绘制所有标记为0的点\n",
    "plt.scatter(cat2_[:,0], cat2_[:,1], color='red')    # 绘制所有标记为1的点\n",
    "plt.scatter(cat3_[:,0], cat3_[:,1], color='blue')   # 绘制所有标记为2的点\n",
    "plt.title('Hierarchical clustering with k=3')    # 设置标题\n",
    "plt.xlim(4, 8)  # 设置x轴的范围\n",
    "plt.ylim(1, 5)  # 设置y轴的范围\n",
    "plt.show()      # 显示图形"
   ]
  },
  {
   "cell_type": "code",
   "execution_count": 29,
   "metadata": {
    "colab": {},
    "colab_type": "code",
    "id": "HiFFoBdWN4fW"
   },
   "outputs": [],
   "source": [
    "# using sklearn\n",
    "from sklearn.cluster import KMeans  # 导入sklearn的KMeans类\n",
    "kmeans = KMeans(n_clusters=3, max_iter=100).fit(data)   # 实例化并进行训练\n",
    "gt_labels__ = kmeans.labels_            # 获得分类数据\n",
    "centers__ = kmeans.cluster_centers_     # 过的中心店坐标"
   ]
  },
  {
   "cell_type": "code",
   "execution_count": 30,
   "metadata": {
    "colab": {
     "base_uri": "https://localhost:8080/",
     "height": 143
    },
    "colab_type": "code",
    "id": "LgKRAwmxObYS",
    "outputId": "032bcef5-ba68-4707-fbb0-f7a225ee968f"
   },
   "outputs": [
    {
     "data": {
      "text/plain": [
       "array([2, 2, 2, 2, 2, 2, 2, 2, 2, 2, 2, 2, 2, 2, 2, 2, 2, 2, 2, 2, 2, 2,\n",
       "       2, 2, 2, 2, 2, 2, 2, 2, 2, 2, 2, 2, 2, 2, 2, 2, 2, 2, 2, 2, 2, 2,\n",
       "       2, 2, 2, 2, 2, 2, 0, 0, 0, 1, 0, 1, 0, 1, 0, 1, 1, 1, 1, 1, 1, 0,\n",
       "       1, 1, 1, 1, 1, 1, 1, 1, 0, 0, 0, 0, 1, 1, 1, 1, 1, 1, 1, 1, 0, 1,\n",
       "       1, 1, 1, 1, 1, 1, 1, 1, 1, 1, 1, 1, 0, 1, 0, 0, 0, 0, 1, 0, 0, 0,\n",
       "       0, 0, 0, 1, 1, 0, 0, 0, 0, 1, 0, 1, 0, 1, 0, 0, 1, 1, 0, 0, 0, 0,\n",
       "       0, 1, 1, 0, 0, 0, 1, 0, 0, 0, 1, 0, 0, 0, 1, 0, 0, 1])"
      ]
     },
     "execution_count": 30,
     "metadata": {},
     "output_type": "execute_result"
    }
   ],
   "source": [
    "gt_labels__         # 打印分类数据"
   ]
  },
  {
   "cell_type": "code",
   "execution_count": 31,
   "metadata": {
    "colab": {
     "base_uri": "https://localhost:8080/",
     "height": 71
    },
    "colab_type": "code",
    "id": "A0iu18HPOcrH",
    "outputId": "5794f33c-4ebd-47dc-d351-05f44c17343d"
   },
   "outputs": [
    {
     "data": {
      "text/plain": [
       "array([[6.81276596, 3.07446809],\n",
       "       [5.77358491, 2.69245283],\n",
       "       [5.006     , 3.428     ]])"
      ]
     },
     "execution_count": 31,
     "metadata": {},
     "output_type": "execute_result"
    }
   ],
   "source": [
    "centers__   # 打印中心店坐标"
   ]
  },
  {
   "cell_type": "code",
   "execution_count": 34,
   "metadata": {
    "colab": {
     "base_uri": "https://localhost:8080/",
     "height": 281
    },
    "colab_type": "code",
    "id": "wEfO5JVjOC5p",
    "outputId": "a6386044-2c7b-420d-f429-0b4960900f83"
   },
   "outputs": [
    {
     "data": {
      "image/png": "[encoded data removed]",
      "text/plain": [
       "<Figure size 640x480 with 1 Axes>"
      ]
     },
     "metadata": {},
     "output_type": "display_data"
    }
   ],
   "source": [
    "# visualize result\n",
    "\n",
    "cat1 = data[gt_labels__ == 0]\n",
    "cat2 = data[gt_labels__ == 1]\n",
    "cat3 = data[gt_labels__ == 2]\n",
    "\n",
    "for ix, p in enumerate(centers__):\n",
    "    plt.scatter(p[0], p[1], color='C{}'.format(ix), marker='^', edgecolor='black', s=256)\n",
    "        \n",
    "plt.scatter(cat1_[:,0], cat1_[:,1], color='green')\n",
    "plt.scatter(cat2_[:,0], cat2_[:,1], color='red')\n",
    "plt.scatter(cat3_[:,0], cat3_[:,1], color='blue')\n",
    "plt.title('kmeans using sklearn with k=3')\n",
    "plt.xlim(4, 8)\n",
    "plt.ylim(1, 5)\n",
    "plt.show()"
   ]
  },
  {
   "cell_type": "markdown",
   "metadata": {
    "colab_type": "text",
    "id": "u5XVOLGBKC4A"
   },
   "source": [
    "#### 寻找 K 值"
   ]
  },
  {
   "cell_type": "code",
   "execution_count": 35,
   "metadata": {
    "colab": {
     "base_uri": "https://localhost:8080/",
     "height": 281
    },
    "colab_type": "code",
    "id": "uCe9-EHaJrFz",
    "outputId": "4c2fe667-ee92-4909-c582-6605bd862ecc"
   },
   "outputs": [
    {
     "data": {
      "image/png": "[encoded data removed]",
      "text/plain": [
       "<Figure size 640x480 with 1 Axes>"
      ]
     },
     "metadata": {},
     "output_type": "display_data"
    }
   ],
   "source": [
    "from sklearn.cluster import KMeans\n",
    "\n",
    "loss = []\n",
    "\n",
    "for i in range(1, 10):      # 迭代从1到9作为k值进行kmeans中k值进行训练\n",
    "    kmeans = KMeans(n_clusters=i, max_iter=100).fit(data)       # KMeans模型训练 聚类类别个数为i\n",
    "    loss.append(kmeans.inertia_ / len(data) / 3)        # 计算损失并保存\n",
    "\n",
    "plt.title('K with loss')\n",
    "plt.plot(range(1, 10), loss)\n",
    "plt.show()"
   ]
  },
  {
   "cell_type": "markdown",
   "metadata": {
    "colab_type": "text",
    "id": "oaa4ModGKN4c"
   },
   "source": [
    "##### 例 14.2"
   ]
  },
  {
   "cell_type": "code",
   "execution_count": 36,
   "metadata": {
    "colab": {},
    "colab_type": "code",
    "id": "87a-GPzLKK62"
   },
   "outputs": [],
   "source": [
    "X = [[0, 2], [0, 0], [1, 0], [5, 0], [5, 2]]"
   ]
  },
  {
   "cell_type": "code",
   "execution_count": 37,
   "metadata": {
    "colab": {
     "base_uri": "https://localhost:8080/",
     "height": 107
    },
    "colab_type": "code",
    "id": "NoacPJOONbqE",
    "outputId": "70147d21-d14d-416c-ab26-80b3f23793a2"
   },
   "outputs": [
    {
     "data": {
      "text/plain": [
       "array([[0, 2],\n",
       "       [0, 0],\n",
       "       [1, 0],\n",
       "       [5, 0],\n",
       "       [5, 2]])"
      ]
     },
     "execution_count": 37,
     "metadata": {},
     "output_type": "execute_result"
    }
   ],
   "source": [
    "np.asarray(X)"
   ]
  },
  {
   "cell_type": "code",
   "execution_count": 31,
   "metadata": {
    "colab": {},
    "colab_type": "code",
    "id": "w5CrPk68I9B9"
   },
   "outputs": [],
   "source": [
    "m = MyKmeans(2, 100)\n",
    "points_set, centers = m.fit(np.asarray(X))"
   ]
  },
  {
   "cell_type": "code",
   "execution_count": 32,
   "metadata": {
    "colab": {
     "base_uri": "https://localhost:8080/",
     "height": 53
    },
    "colab_type": "code",
    "id": "THUOLIKiKkLc",
    "outputId": "693794ef-67b6-4bd4-e1bb-3d05facd10f1"
   },
   "outputs": [
    {
     "data": {
      "text/plain": [
       "{0: [array([0, 2]), array([0, 0]), array([1, 0])],\n",
       " 1: [array([5, 0]), array([5, 2])]}"
      ]
     },
     "execution_count": 32,
     "metadata": {},
     "output_type": "execute_result"
    }
   ],
   "source": [
    "points_set"
   ]
  },
  {
   "cell_type": "code",
   "execution_count": 33,
   "metadata": {
    "colab": {
     "base_uri": "https://localhost:8080/",
     "height": 53
    },
    "colab_type": "code",
    "id": "1TqaAPnnKrkn",
    "outputId": "7bfe9b28-4cda-4a20-ca99-112373a4313c"
   },
   "outputs": [
    {
     "data": {
      "text/plain": [
       "array([[0, 0],\n",
       "       [5, 1]])"
      ]
     },
     "execution_count": 33,
     "metadata": {},
     "output_type": "execute_result"
    }
   ],
   "source": [
    "centers"
   ]
  },
  {
   "cell_type": "code",
   "execution_count": 34,
   "metadata": {
    "colab": {},
    "colab_type": "code",
    "id": "7f_Jv2EFLmms"
   },
   "outputs": [],
   "source": [
    "kmeans = KMeans(n_clusters=2, max_iter=100).fit(np.asarray(X))"
   ]
  },
  {
   "cell_type": "code",
   "execution_count": 35,
   "metadata": {
    "colab": {
     "base_uri": "https://localhost:8080/",
     "height": 35
    },
    "colab_type": "code",
    "id": "S5oVNBQdL-sl",
    "outputId": "d04fd98e-8f47-4d8b-cf79-da6a19157843"
   },
   "outputs": [
    {
     "data": {
      "text/plain": [
       "array([0, 0, 0, 1, 1])"
      ]
     },
     "execution_count": 35,
     "metadata": {},
     "output_type": "execute_result"
    }
   ],
   "source": [
    "kmeans.labels_"
   ]
  },
  {
   "cell_type": "code",
   "execution_count": 36,
   "metadata": {
    "colab": {
     "base_uri": "https://localhost:8080/",
     "height": 53
    },
    "colab_type": "code",
    "id": "MG_sSMnHMU_r",
    "outputId": "9c4393a2-3f9e-492e-bd10-98d48ee6495c"
   },
   "outputs": [
    {
     "data": {
      "text/plain": [
       "array([[0.33333333, 0.66666667],\n",
       "       [5.        , 1.        ]])"
      ]
     },
     "execution_count": 36,
     "metadata": {},
     "output_type": "execute_result"
    }
   ],
   "source": [
    "kmeans.cluster_centers_"
   ]
  },
  {
   "cell_type": "markdown",
   "metadata": {},
   "source": [
    "----\n",
    "本章代码来源：https://github.com/hktxt/Learn-Statistical-Learning-Method\n",
    "\n",
    "本文代码更新地址：https://github.com/fengdu78/lihang-code\n",
    "\n",
    "中文注释制作：机器学习初学者公众号：ID:ai-start-com\n",
    "\n",
    "配置环境：python 3.5+\n",
    "\n",
    "代码全部测试通过。\n",
    "![gongzhong](../gongzhong.jpg)"
   ]
  }
 ],
 "metadata": {
  "colab": {
   "collapsed_sections": [],
   "name": "Clustering.ipynb",
   "provenance": [],
   "version": "0.3.2"
  },
  "kernelspec": {
   "display_name": "Python 3",
   "language": "python",
   "name": "python3"
  },
  "language_info": {
   "codemirror_mode": {
    "name": "ipython",
    "version": 3
   },
   "file_extension": ".py",
   "mimetype": "text/x-python",
   "name": "python",
   "nbconvert_exporter": "python",
   "pygments_lexer": "ipython3",
   "version": "3.12.3"
  }
 },
 "nbformat": 4,
 "nbformat_minor": 1
}
